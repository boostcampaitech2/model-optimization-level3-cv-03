{
 "cells": [
  {
   "cell_type": "markdown",
   "metadata": {},
   "source": [
    "# ShuffleNetV2_0.5 pth fix"
   ]
  },
  {
   "cell_type": "code",
   "execution_count": 1,
   "metadata": {},
   "outputs": [
    {
     "name": "stdout",
     "output_type": "stream",
     "text": [
      "Enabling notebook extension jupyter-js-widgets/extension...\n",
      "      - Validating: \u001b[32mOK\u001b[0m\n"
     ]
    }
   ],
   "source": [
    "!jupyter nbextension enable --py widgetsnbextension"
   ]
  },
  {
   "cell_type": "code",
   "execution_count": 2,
   "metadata": {},
   "outputs": [],
   "source": [
    "import torch\n",
    "from torch import nn as nn\n",
    "import torchvision\n",
    "from src.utils.common import get_label_counts, read_yaml\n",
    "from src.model import Model"
   ]
  },
  {
   "cell_type": "code",
   "execution_count": 3,
   "metadata": {},
   "outputs": [],
   "source": [
    "class Shufflenet_v205(nn.Module):\n",
    "    def __init__(self, num_classes:int = 9):\n",
    "        super().__init__()\n",
    "        self.model = torchvision.models.shufflenet_v2_x0_5(pretrained=True)\n",
    "        self.model.fc = torch.nn.Linear(1024, num_classes)\n",
    "\n",
    "    def forward(self, x):\n",
    "        return self.model(x)"
   ]
  },
  {
   "cell_type": "code",
   "execution_count": 4,
   "metadata": {},
   "outputs": [],
   "source": [
    "# load pretrained\n",
    "ShModel = Shufflenet_v205()"
   ]
  },
  {
   "cell_type": "code",
   "execution_count": 5,
   "metadata": {},
   "outputs": [],
   "source": [
    "# load model used\n",
    "model_config = read_yaml(cfg=\"configs/model/shufflenetv2.yaml\")\n",
    "model_used = Model(cfg=model_config)"
   ]
  },
  {
   "cell_type": "code",
   "execution_count": 6,
   "metadata": {},
   "outputs": [
    {
     "name": "stdout",
     "output_type": "stream",
     "text": [
      "338 338\n"
     ]
    }
   ],
   "source": [
    "print(len(ShModel.state_dict()), len(model_used.state_dict()))"
   ]
  },
  {
   "cell_type": "code",
   "execution_count": 7,
   "metadata": {},
   "outputs": [
    {
     "name": "stdout",
     "output_type": "stream",
     "text": [
      "load_state_dict completed.\n"
     ]
    }
   ],
   "source": [
    "pretrained_state_dict = ShModel.state_dict()\n",
    "keys_load = [x for x in pretrained_state_dict.keys()]\n",
    "keys_load = {x:y for x,y in zip(keys_load, model_used.state_dict().keys())}\n",
    "for before, after in keys_load.items():\n",
    "    pretrained_state_dict[after] = pretrained_state_dict.pop(before)\n",
    "model_used.load_state_dict(pretrained_state_dict)\n",
    "print(\"load_state_dict completed.\")"
   ]
  },
  {
   "cell_type": "code",
   "execution_count": 8,
   "metadata": {},
   "outputs": [],
   "source": [
    "torch.save(pretrained_state_dict, 'fixed_pt.pt')"
   ]
  },
  {
   "cell_type": "code",
   "execution_count": null,
   "metadata": {},
   "outputs": [],
   "source": []
  }
 ],
 "metadata": {
  "interpreter": {
   "hash": "e31c68abf1d5dd3f9e2269f23eadf1b199587e56c0618a30760176a65ebfcab4"
  },
  "kernelspec": {
   "display_name": "Python 3.7.11 64-bit ('lightweight': conda)",
   "language": "python",
   "name": "python3"
  },
  "language_info": {
   "codemirror_mode": {
    "name": "ipython",
    "version": 3
   },
   "file_extension": ".py",
   "mimetype": "text/x-python",
   "name": "python",
   "nbconvert_exporter": "python",
   "pygments_lexer": "ipython3",
   "version": "3.7.11"
  },
  "orig_nbformat": 4
 },
 "nbformat": 4,
 "nbformat_minor": 2
}
